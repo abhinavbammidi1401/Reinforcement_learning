{
 "cells": [
  {
   "cell_type": "code",
   "execution_count": 6,
   "metadata": {},
   "outputs": [],
   "source": [
    "import numpy as np"
   ]
  },
  {
   "cell_type": "code",
   "execution_count": 7,
   "metadata": {},
   "outputs": [],
   "source": [
    "# Parameters\n",
    "num_states = 5\n",
    "gamma = 0.9  # Discount factor\n",
    "alpha = 0.1  # Learning rate\n",
    "episodes = 50  # Number of episodes\n",
    "\n",
    "# Initialize state values (1-indexed, V[0] unused)\n",
    "V = np.zeros(num_states + 1)  # V[1] to V[5], V[0] is a placeholder\n",
    "\n",
    "# Rewards and transitions\n",
    "goal_state = num_states\n",
    "rewards = np.zeros(num_states + 1)  # Reward array\n",
    "rewards[goal_state] = 1  # Reward of 1 for reaching the goal state\n",
    "\n",
    "# Define possible actions\n",
    "actions = [-1, 1]  # Move left (-1) or right (+1)"
   ]
  },
  {
   "cell_type": "code",
   "execution_count": 8,
   "metadata": {},
   "outputs": [],
   "source": [
    "# Simulate episodes\n",
    "for episode in range(episodes):\n",
    "    state = 1  # Start at state 1\n",
    "    while state != goal_state:\n",
    "        # Choose an action randomly\n",
    "        action = np.random.choice(actions)\n",
    "        next_state = state + action\n",
    "        \n",
    "        # Ensure the agent stays within bounds\n",
    "        if next_state < 1:\n",
    "            next_state = 1\n",
    "        elif next_state > num_states:\n",
    "            next_state = num_states\n",
    "\n",
    "        # Get reward and update value function\n",
    "        reward = rewards[next_state]\n",
    "        V[state] += alpha * (reward + gamma * V[next_state] - V[state])\n",
    "\n",
    "        # Transition to the next state\n",
    "        state = next_state"
   ]
  },
  {
   "cell_type": "code",
   "execution_count": 9,
   "metadata": {},
   "outputs": [
    {
     "name": "stdout",
     "output_type": "stream",
     "text": [
      "State Value Estimates after Training:\n",
      "V(S1) = 0.29\n",
      "V(S2) = 0.36\n",
      "V(S3) = 0.50\n",
      "V(S4) = 0.82\n",
      "V(S5) = 0.00\n"
     ]
    }
   ],
   "source": [
    "# Print results\n",
    "print(\"State Value Estimates after Training:\")\n",
    "for s in range(1, num_states + 1):\n",
    "    print(f\"V(S{s}) = {V[s]:.2f}\")"
   ]
  }
 ],
 "metadata": {
  "kernelspec": {
   "display_name": "Python 3",
   "language": "python",
   "name": "python3"
  },
  "language_info": {
   "codemirror_mode": {
    "name": "ipython",
    "version": 3
   },
   "file_extension": ".py",
   "mimetype": "text/x-python",
   "name": "python",
   "nbconvert_exporter": "python",
   "pygments_lexer": "ipython3",
   "version": "3.11.5"
  }
 },
 "nbformat": 4,
 "nbformat_minor": 2
}
