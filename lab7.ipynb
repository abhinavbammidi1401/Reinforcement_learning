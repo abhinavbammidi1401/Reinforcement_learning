{
 "cells": [
  {
   "cell_type": "code",
   "execution_count": 24,
   "metadata": {},
   "outputs": [],
   "source": [
    "import numpy as np"
   ]
  },
  {
   "cell_type": "code",
   "execution_count": 25,
   "metadata": {},
   "outputs": [],
   "source": [
    "# Grid-world dimensions\n",
    "grid_size = 3\n",
    "gamma = 0.9  # Discount factor\n",
    "alpha = 0.1  # Learning rate"
   ]
  },
  {
   "cell_type": "code",
   "execution_count": 26,
   "metadata": {},
   "outputs": [],
   "source": [
    "# Initialize state values\n",
    "V = np.zeros((grid_size, grid_size))\n",
    "\n",
    "# Randomly select a goal state (not the start state)\n",
    "start_state = (2, 0)\n",
    "goal_state = (np.random.randint(0, grid_size), np.random.randint(0, grid_size))\n",
    "while goal_state == start_state:\n",
    "    goal_state = (np.random.randint(0, grid_size), np.random.randint(0, grid_size))\n",
    "\n",
    "# Reward setup\n",
    "rewards = np.zeros((grid_size, grid_size))\n",
    "rewards[goal_state] = 1\n",
    "\n",
    "# Actions: up, down, left, right\n",
    "actions = [(-1, 0), (1, 0), (0, -1), (0, 1)]"
   ]
  },
  {
   "cell_type": "code",
   "execution_count": 27,
   "metadata": {},
   "outputs": [],
   "source": [
    "def is_valid_state(state):\n",
    "    return 0 <= state[0] < grid_size and 0 <= state[1] < grid_size"
   ]
  },
  {
   "cell_type": "code",
   "execution_count": 28,
   "metadata": {},
   "outputs": [],
   "source": [
    "def take_action(state, action):\n",
    "    next_state = (state[0] + action[0], state[1] + action[1])\n",
    "    if is_valid_state(next_state):\n",
    "        return next_state\n",
    "    return state"
   ]
  },
  {
   "cell_type": "code",
   "execution_count": 29,
   "metadata": {},
   "outputs": [],
   "source": [
    "# Training loop\n",
    "for episode in range(100):\n",
    "    state = start_state  # Start at bottom-left\n",
    "    while state != goal_state:\n",
    "        # Choose an action randomly\n",
    "        action = actions[np.random.choice(len(actions))]\n",
    "        next_state = take_action(state, action)\n",
    "        \n",
    "        # TD(0) Update\n",
    "        reward = rewards[next_state]\n",
    "        V[state] += alpha * (reward + gamma * V[next_state] - V[state])\n",
    "        \n",
    "        # Move to the next state\n",
    "        state = next_state"
   ]
  },
  {
   "cell_type": "code",
   "execution_count": 30,
   "metadata": {},
   "outputs": [
    {
     "name": "stdout",
     "output_type": "stream",
     "text": [
      "Goal State: (1, 2)\n",
      "State Value Estimates:\n",
      "[[0.3  0.38 0.72]\n",
      " [0.29 0.49 0.  ]\n",
      " [0.26 0.41 0.67]]\n"
     ]
    }
   ],
   "source": [
    "# Print the results\n",
    "print(\"Goal State:\", goal_state)\n",
    "print(\"State Value Estimates:\")\n",
    "print(np.round(V, 2))"
   ]
  }
 ],
 "metadata": {
  "kernelspec": {
   "display_name": "Python 3",
   "language": "python",
   "name": "python3"
  },
  "language_info": {
   "codemirror_mode": {
    "name": "ipython",
    "version": 3
   },
   "file_extension": ".py",
   "mimetype": "text/x-python",
   "name": "python",
   "nbconvert_exporter": "python",
   "pygments_lexer": "ipython3",
   "version": "3.11.5"
  }
 },
 "nbformat": 4,
 "nbformat_minor": 2
}
