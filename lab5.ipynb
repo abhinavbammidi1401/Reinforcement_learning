{
 "cells": [
  {
   "cell_type": "code",
   "execution_count": null,
   "metadata": {},
   "outputs": [],
   "source": [
    "import gymnasium as gym\n",
    "import numpy as np\n",
    "from utils import JupyterRender\n",
    "\n",
    "%matplotlib inline"
   ]
  },
  {
   "cell_type": "code",
   "execution_count": 15,
   "metadata": {},
   "outputs": [],
   "source": [
    "class MC_prediction:\n",
    "    def __init__(self, env, pi, gamma=0.9, max_episode=100, render=False):\n",
    "        self.env = env\n",
    "        \n",
    "        self.nrow = env.nrow\n",
    "        self.ncol = env.ncol \n",
    "        \n",
    "        self.state_dim = env.observation_space.n # self.nrow * self.ncol\n",
    "        self.action_dim = env.action_space.n\n",
    "\n",
    "        self.gamma = gamma\n",
    "        self.max_episode = max_episode\n",
    "        self.render = render\n",
    "        \n",
    "        self.pi = pi\n",
    "        self.v = np.zeros([self.state_dim])\n",
    "        self.returns = [[] for _ in range(self.state_dim)]\n",
    "        \n",
    "        #check policy validity\n",
    "        assert len(self.pi) == self.state_dim\n",
    "        \n",
    "        for i in range(self.state_dim):\n",
    "            assert self.pi[i] >= 0 and self.pi[i] < self.action_dim\n",
    "            \n",
    "    def run(self):\n",
    "        for episode in range(self.max_episode):\n",
    "            observation, _ = self.env.reset()\n",
    "            \n",
    "            done = False\n",
    "            local_step = 0\n",
    "            trajectory = []\n",
    "            \n",
    "            while not done:\n",
    "                action = self.pi[observation]\n",
    "                next_observation, reward, done, _, _ = self.env.step(action)\n",
    "                \n",
    "                if self.render:\n",
    "                    self.env.render(title=f\"Episode {episode} / step {local_step}\",v=self.v, policy=self.pi)\n",
    "                # give penalty for staying in ground\n",
    "                if reward == 0:\n",
    "                    reward = -0.001\n",
    "                    \n",
    "                # give penalty for falling into the hole\n",
    "                if done and next_observation != 15:\n",
    "                    reward = -1\n",
    "\n",
    "                if local_step == 100:\n",
    "                    done = True #prevent infinite episode\n",
    "                    reward = -1\n",
    "\n",
    "                if observation == next_observation: # prevent meaningless actions\n",
    "                    reward = -1\n",
    "\n",
    "                trajectory.append({'s': observation, 'a': action, 'r': reward})\n",
    "                \n",
    "                observation = next_observation \n",
    "                local_step += 1\n",
    "            trajectory.reverse()\n",
    "            G = 0\n",
    "            \n",
    "            traj_states = list(map(lambda x: x['s'], trajectory))\n",
    "            \n",
    "            for i in range(len(trajectory)):\n",
    "                G = self.gamma * G + trajectory[i]['r'] \n",
    "                \n",
    "                if trajectory[i]['s'] not in traj_states[i+1:]:\n",
    "                    self.returns[trajectory[i]['s']].append(G)\n",
    "                    self.v[trajectory[i]['s']] = sum(self.returns[trajectory[i]['s']]) / len(self.returns[trajectory[i]['s']])\n",
    "                "
   ]
  },
  {
   "cell_type": "code",
   "execution_count": 16,
   "metadata": {},
   "outputs": [
    {
     "ename": "NameError",
     "evalue": "name 'JupyterRender' is not defined",
     "output_type": "error",
     "traceback": [
      "\u001b[1;31m---------------------------------------------------------------------------\u001b[0m",
      "\u001b[1;31mNameError\u001b[0m                                 Traceback (most recent call last)",
      "Cell \u001b[1;32mIn[16], line 2\u001b[0m\n\u001b[0;32m      1\u001b[0m env \u001b[38;5;241m=\u001b[39m gym\u001b[38;5;241m.\u001b[39mmake(\u001b[38;5;124m\"\u001b[39m\u001b[38;5;124mFrozenLake-v1\u001b[39m\u001b[38;5;124m\"\u001b[39m, render_mode\u001b[38;5;241m=\u001b[39m\u001b[38;5;124m'\u001b[39m\u001b[38;5;124mrgb_array\u001b[39m\u001b[38;5;124m'\u001b[39m, is_slippery\u001b[38;5;241m=\u001b[39m\u001b[38;5;28;01mFalse\u001b[39;00m)\u001b[38;5;66;03m#define the environment.\u001b[39;00m\n\u001b[1;32m----> 2\u001b[0m env \u001b[38;5;241m=\u001b[39m \u001b[43mJupyterRender\u001b[49m(env)\n\u001b[0;32m      4\u001b[0m policy \u001b[38;5;241m=\u001b[39m np\u001b[38;5;241m.\u001b[39marray([\u001b[38;5;241m1\u001b[39m, \u001b[38;5;241m2\u001b[39m, \u001b[38;5;241m1\u001b[39m, \u001b[38;5;241m0\u001b[39m, \u001b[38;5;241m1\u001b[39m, \u001b[38;5;241m0\u001b[39m, \u001b[38;5;241m1\u001b[39m, \u001b[38;5;241m0\u001b[39m, \u001b[38;5;241m2\u001b[39m, \u001b[38;5;241m1\u001b[39m, \u001b[38;5;241m1\u001b[39m, \u001b[38;5;241m0\u001b[39m, \u001b[38;5;241m0\u001b[39m, \u001b[38;5;241m2\u001b[39m, \u001b[38;5;241m2\u001b[39m, \u001b[38;5;241m0\u001b[39m], dtype\u001b[38;5;241m=\u001b[39m\u001b[38;5;28mint\u001b[39m) \u001b[38;5;66;03m#optimal policy\u001b[39;00m\n",
      "\u001b[1;31mNameError\u001b[0m: name 'JupyterRender' is not defined"
     ]
    }
   ],
   "source": [
    "env = gym.make(\"FrozenLake-v1\", render_mode='rgb_array', is_slippery=False)#define the environment.\n",
    "env = JupyterRender(env)\n",
    "\n",
    "policy = np.array([1, 2, 1, 0, 1, 0, 1, 0, 2, 1, 1, 0, 0, 2, 2, 0], dtype=int) #optimal policy"
   ]
  },
  {
   "cell_type": "code",
   "execution_count": null,
   "metadata": {},
   "outputs": [
    {
     "ename": "TypeError",
     "evalue": "MC_prediction.__init__() missing 1 required positional argument: 'pi'",
     "output_type": "error",
     "traceback": [
      "\u001b[1;31m---------------------------------------------------------------------------\u001b[0m",
      "\u001b[1;31mTypeError\u001b[0m                                 Traceback (most recent call last)",
      "Cell \u001b[1;32mIn[13], line 9\u001b[0m\n\u001b[0;32m      1\u001b[0m mc_config \u001b[38;5;241m=\u001b[39m {\n\u001b[0;32m      2\u001b[0m     \u001b[38;5;124m'\u001b[39m\u001b[38;5;124menv\u001b[39m\u001b[38;5;124m'\u001b[39m: env,\n\u001b[0;32m      3\u001b[0m     \u001b[38;5;124m'\u001b[39m\u001b[38;5;124mpi\u001b[39m\u001b[38;5;124m'\u001b[39m: policy,\n\u001b[1;32m   (...)\u001b[0m\n\u001b[0;32m      6\u001b[0m     \u001b[38;5;124m'\u001b[39m\u001b[38;5;124mmax_episode\u001b[39m\u001b[38;5;124m'\u001b[39m: \u001b[38;5;241m10\u001b[39m\n\u001b[0;32m      7\u001b[0m }\n\u001b[1;32m----> 9\u001b[0m mc \u001b[38;5;241m=\u001b[39m \u001b[43mMC_prediction\u001b[49m\u001b[43m(\u001b[49m\u001b[43mmc_config\u001b[49m\u001b[43m)\u001b[49m\n\u001b[0;32m     10\u001b[0m mc\u001b[38;5;241m.\u001b[39mrun()\n",
      "\u001b[1;31mTypeError\u001b[0m: MC_prediction.__init__() missing 1 required positional argument: 'pi'"
     ]
    }
   ],
   "source": [
    "mc_config = {\n",
    "    'env': env,\n",
    "    'pi': policy,\n",
    "    'gamma': 0.9,\n",
    "    'render': True,\n",
    "    'max_episode': 10\n",
    "}\n",
    "\n",
    "mc = MC_prediction(mc_config)\n",
    "mc.run()"
   ]
  },
  {
   "cell_type": "code",
   "execution_count": null,
   "metadata": {},
   "outputs": [],
   "source": []
  }
 ],
 "metadata": {
  "kernelspec": {
   "display_name": "Python 3",
   "language": "python",
   "name": "python3"
  },
  "language_info": {
   "codemirror_mode": {
    "name": "ipython",
    "version": 3
   },
   "file_extension": ".py",
   "mimetype": "text/x-python",
   "name": "python",
   "nbconvert_exporter": "python",
   "pygments_lexer": "ipython3",
   "version": "3.11.5"
  }
 },
 "nbformat": 4,
 "nbformat_minor": 2
}
