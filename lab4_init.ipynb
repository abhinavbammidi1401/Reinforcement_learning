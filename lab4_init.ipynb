{
 "cells": [
  {
   "cell_type": "code",
   "execution_count": 8,
   "metadata": {},
   "outputs": [],
   "source": [
    "import numpy as np\n"
   ]
  },
  {
   "cell_type": "code",
   "execution_count": 9,
   "metadata": {},
   "outputs": [],
   "source": [
    "def policy_evaluation(env, policy, gamma=0.9, theta=1e-8):\n",
    "    \"\"\"\n",
    "    Evaluate a given policy for an MDP.\n",
    "    Parameters:\n",
    "    - env (object): An MDP environment with methods `transition_prob` and `reward`.\n",
    "    - policy (dict): A mapping of states to actions.\n",
    "    - gamma (float): Discount factor.\n",
    "    - theta (float): Threshold for convergence.\n",
    "    \"\"\"\n",
    "    states = env.states\n",
    "    V = {s: 0 for s in states}  # Initialize state-value function\n",
    "    \n",
    "    while True:\n",
    "        delta = 0  # Change in value for convergence check\n",
    "        for s in states:\n",
    "            v = V[s]\n",
    "            V[s] = sum(\n",
    "                env.transition_prob(s, policy[s], s_) *\n",
    "                (env.reward(s, policy[s], s_) + gamma * V[s_])\n",
    "                for s_ in states\n",
    "            )\n",
    "            delta = max(delta, abs(v - V[s]))  # Track max change\n",
    "        if delta < theta:\n",
    "            break  # Convergence achieved\n",
    "    \n",
    "    return V"
   ]
  },
  {
   "cell_type": "code",
   "execution_count": 10,
   "metadata": {},
   "outputs": [],
   "source": [
    "def policy_improvement(env, V, gamma=0.9):\n",
    "    \"\"\"\n",
    "    Improve a policy for an MDP.\n",
    "    Parameters:\n",
    "    - env (object): An MDP environment with methods `transition_prob` and `reward`.\n",
    "    - V (dict): The state-value function.\n",
    "    - gamma (float): Discount factor.\n",
    "    \"\"\"\n",
    "    states = env.states\n",
    "    actions = env.actions\n",
    "    policy = {}\n",
    "    \n",
    "    for s in states:\n",
    "        action_values = {}\n",
    "        for a in actions:\n",
    "            action_values[a] = sum(\n",
    "                env.transition_prob(s, a, s_) *\n",
    "                (env.reward(s, a, s_) + gamma * V[s_])\n",
    "                for s_ in states\n",
    "            )\n",
    "        # Choose the action with the maximum value\n",
    "        policy[s] = max(action_values, key=action_values.get)\n",
    "    \n",
    "    return policy"
   ]
  },
  {
   "cell_type": "code",
   "execution_count": 11,
   "metadata": {},
   "outputs": [],
   "source": [
    "class GridWorldEnv:\n",
    "    def __init__(self):\n",
    "        self.states = [(x, y) for x in range(3) for y in range(3)]\n",
    "        self.actions = ['up', 'down', 'left', 'right']\n",
    "        self.goal_state = (2, 2)\n",
    "        \n",
    "    def transition_prob(self, state, action, next_state):\n",
    "        \"\"\"Returns the probability of moving to `next_state` from `state` given `action`.\"\"\"\n",
    "        intended_next_state = self._next_state(state, action)\n",
    "        if next_state == intended_next_state:\n",
    "            return 0.8  # 80% chance to go as intended\n",
    "        elif next_state == state:\n",
    "            return 0.2  # 20% chance of staying in place (e.g., hitting a wall)\n",
    "        else:\n",
    "            return 0.0  # All other transitions are impossible\n",
    "    \n",
    "    def reward(self, state, action, next_state):\n",
    "        \"\"\"Returns the reward for moving to `next_state` from `state`.\"\"\"\n",
    "        if next_state == self.goal_state:\n",
    "            return 1  # Reward for reaching the goal\n",
    "        else:\n",
    "            return 0  # No reward otherwise\n",
    "    \n",
    "    def _next_state(self, state, action):\n",
    "        \"\"\"Returns the next state resulting from taking `action` in `state`.\"\"\"\n",
    "        x, y = state\n",
    "        if action == 'up' and y < 2:\n",
    "            return (x, y + 1)\n",
    "        elif action == 'down' and y > 0:\n",
    "            return (x, y - 1)\n",
    "        elif action == 'left' and x > 0:\n",
    "            return (x - 1, y)\n",
    "        elif action == 'right' and x < 2:\n",
    "            return (x + 1, y)\n",
    "        else:\n",
    "            return state  # If the action would take the agent out of bounds, it stays in place."
   ]
  },
  {
   "cell_type": "code",
   "execution_count": 12,
   "metadata": {},
   "outputs": [],
   "source": [
    "# Main script\n",
    "env = GridWorldEnv()\n",
    "initial_policy = {s: 'up' for s in env.states}"
   ]
  },
  {
   "cell_type": "code",
   "execution_count": 13,
   "metadata": {},
   "outputs": [
    {
     "name": "stdout",
     "output_type": "stream",
     "text": [
      "Evaluating initial policy...\n",
      "Initial state-value function:\n",
      "State: (0, 0), Value: 0.00\n",
      "State: (0, 1), Value: 0.00\n",
      "State: (0, 2), Value: 0.00\n",
      "State: (1, 0), Value: 0.00\n",
      "State: (1, 1), Value: 0.00\n",
      "State: (1, 2), Value: 0.00\n",
      "State: (2, 0), Value: 3.06\n",
      "State: (2, 1), Value: 3.48\n",
      "State: (2, 2), Value: 2.86\n"
     ]
    }
   ],
   "source": [
    "\n",
    "# Evaluate the initial policy\n",
    "print(\"Evaluating initial policy...\")\n",
    "V = policy_evaluation(env, initial_policy)\n",
    "print(\"Initial state-value function:\")\n",
    "for state, value in V.items():\n",
    "    print(f\"State: {state}, Value: {value:.2f}\")"
   ]
  },
  {
   "cell_type": "code",
   "execution_count": 14,
   "metadata": {},
   "outputs": [
    {
     "name": "stdout",
     "output_type": "stream",
     "text": [
      "\n",
      "Improving policy...\n",
      "Improved policy:\n",
      "State: (0, 0), Action: up\n",
      "State: (0, 1), Action: up\n",
      "State: (0, 2), Action: up\n",
      "State: (1, 0), Action: right\n",
      "State: (1, 1), Action: right\n",
      "State: (1, 2), Action: right\n",
      "State: (2, 0), Action: up\n",
      "State: (2, 1), Action: up\n",
      "State: (2, 2), Action: down\n"
     ]
    }
   ],
   "source": [
    "# Improve the policy\n",
    "print(\"\\nImproving policy...\")\n",
    "improved_policy = policy_improvement(env, V)\n",
    "print(\"Improved policy:\")\n",
    "for state, action in improved_policy.items():\n",
    "    print(f\"State: {state}, Action: {action}\")"
   ]
  }
 ],
 "metadata": {
  "kernelspec": {
   "display_name": "Python 3",
   "language": "python",
   "name": "python3"
  },
  "language_info": {
   "codemirror_mode": {
    "name": "ipython",
    "version": 3
   },
   "file_extension": ".py",
   "mimetype": "text/x-python",
   "name": "python",
   "nbconvert_exporter": "python",
   "pygments_lexer": "ipython3",
   "version": "3.11.5"
  }
 },
 "nbformat": 4,
 "nbformat_minor": 2
}
